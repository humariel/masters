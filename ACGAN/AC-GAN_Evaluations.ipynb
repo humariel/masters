{
 "cells": [
  {
   "cell_type": "code",
   "execution_count": 1,
   "id": "outstanding-capability",
   "metadata": {},
   "outputs": [],
   "source": [
    "import math\n",
    "import numpy as np\n",
    "import tensorflow as tf\n",
    "from tensorflow.keras.applications.inception_v3 import InceptionV3\n",
    "from tensorflow.keras.applications.inception_v3 import preprocess_input\n",
    "from tensorflow.keras.datasets import cifar10\n",
    "from skimage.transform import resize\n",
    "import matplotlib.pyplot as plt\n",
    "from scipy.linalg import sqrtm\n",
    "import pickle\n",
    "from scipy.stats import truncnorm\n",
    "# modules\n",
    "from Ops.spectral_normalization import SpectralConv2D, SpectralDense\n",
    "from Ops.ops import ResnetBlock, ResnetBlockUp, ResnetBlockDown\n",
    "from Ops.attention import Attention\n",
    "from Ops.global_sum_pooling import GlobalSumPooling2D\n",
    "from Ops.conditional_batch_normalization import ConditionalBatchNormalization"
   ]
  },
  {
   "cell_type": "code",
   "execution_count": 2,
   "id": "atmospheric-bolivia",
   "metadata": {},
   "outputs": [],
   "source": [
    "# scale an array of images to a new size\n",
    "def scale_images(images, new_shape):\n",
    "    images_list = list()\n",
    "    for image in images:\n",
    "        # resize with nearest neighbor interpolation\n",
    "        new_image = resize(image, new_shape, 0)\n",
    "        # store\n",
    "        images_list.append(new_image)\n",
    "    return np.asarray(images_list)"
   ]
  },
  {
   "cell_type": "code",
   "execution_count": 3,
   "id": "optional-sodium",
   "metadata": {},
   "outputs": [],
   "source": [
    "# assumes images have any shape and pixels in [0,255]\n",
    "def calculate_inception_score(images, n_split=10, eps=1E-16):\n",
    "    # load inception v3 model\n",
    "    model = InceptionV3()\n",
    "    # enumerate splits of images/predictions\n",
    "    scores = list()\n",
    "    n_part = math.floor(images.shape[0] / n_split)\n",
    "    for i in range(n_split):\n",
    "        # retrieve images\n",
    "        ix_start, ix_end = i * n_part, (i+1) * n_part\n",
    "        subset = images[ix_start:ix_end]\n",
    "        # convert from uint8 to float32\n",
    "        subset = subset.astype('float32')\n",
    "        # scale images to the required size\n",
    "        subset = scale_images(subset, (299,299,3))\n",
    "        # pre-process images, scale to [-1,1]\n",
    "        subset = preprocess_input(subset)\n",
    "        # predict p(y|x)\n",
    "        p_yx = model.predict(subset)\n",
    "        # calculate p(y)\n",
    "        p_y = np.expand_dims(p_yx.mean(axis=0), 0)\n",
    "        # calculate KL divergence using log probabilities\n",
    "        kl_d = p_yx * (np.log(p_yx + eps) - np.log(p_y + eps))\n",
    "        # sum over classes\n",
    "        sum_kl_d = kl_d.sum(axis=1)\n",
    "        # average over images\n",
    "        avg_kl_d = np.mean(sum_kl_d)\n",
    "        # undo the log\n",
    "        is_score = np.exp(avg_kl_d)\n",
    "        # store\n",
    "        scores.append(is_score)\n",
    "    # average across images\n",
    "    is_avg, is_std = np.mean(scores), np.std(scores)\n",
    "    return is_avg, is_std"
   ]
  },
  {
   "cell_type": "code",
   "execution_count": 4,
   "id": "satisfied-paradise",
   "metadata": {},
   "outputs": [],
   "source": [
    "# calculate frechet inception distance\n",
    "def calculate_fid(images1, images2):\n",
    "    model = InceptionV3(include_top=False, pooling='avg', input_shape=(299,299,3))\n",
    "    # convert integer to floating point values\n",
    "    images1 = images1.astype('float32')\n",
    "    images2 = images2.astype('float32')\n",
    "    # resize images\n",
    "    images1 = scale_images(images1, (299,299,3))\n",
    "    images2 = scale_images(images2, (299,299,3))\n",
    "    # pre-process images\n",
    "    images1 = preprocess_input(images1)\n",
    "    images2 = preprocess_input(images2)\n",
    "    # calculate activations\n",
    "    act1 = model.predict(images1)\n",
    "    act2 = model.predict(images2)\n",
    "    # calculate mean and covariance statistics\n",
    "    mu1, sigma1 = act1.mean(axis=0), np.cov(act1, rowvar=False)\n",
    "    mu2, sigma2 = act2.mean(axis=0), np.cov(act2, rowvar=False)\n",
    "    # calculate sum squared difference between means\n",
    "    ssdiff = np.sum((mu1 - mu2)**2.0)\n",
    "    # calculate sqrt of product between cov\n",
    "    covmean = sqrtm(sigma1.dot(sigma2))\n",
    "    # check and correct imaginary numbers from sqrt\n",
    "    if np.iscomplexobj(covmean):\n",
    "        covmean = covmean.real\n",
    "    # calculate score\n",
    "    fid = ssdiff + np.trace(sigma1 + sigma2 - 2.0 * covmean)\n",
    "    return fid"
   ]
  },
  {
   "cell_type": "code",
   "execution_count": 5,
   "id": "alive-square",
   "metadata": {},
   "outputs": [],
   "source": [
    "# generate points in latent space as input for the generator\n",
    "def generate_latent_points(n_samples, latent_dim=100, n_classes=10, bigGAN=False):\n",
    "    if not bigGAN:\n",
    "        # generate points in the latent space\n",
    "        z_input = np.random.randn(n_samples * latent_dim)\n",
    "        # reshape into a batch of inputs for the network\n",
    "        z_input = z_input.reshape(n_samples, latent_dim)\n",
    "    else:\n",
    "        z_input = truncnorm.rvs(-2, 2, size=(n_samples, latent_dim), random_state=None).astype(np.float32)\n",
    "        z_input = z_input * 2.0 # 2.0 is truncation value\n",
    "    # generate labels\n",
    "    labels = np.random.randint(0, n_classes, n_samples)\n",
    "    return [z_input, labels]"
   ]
  },
  {
   "cell_type": "code",
   "execution_count": 6,
   "id": "reported-preliminary",
   "metadata": {},
   "outputs": [],
   "source": [
    "def calc_is_for_gan(generator, n_split=10, eps=1E-16, custom_objects=None, latent_dim=100):\n",
    "    generator = tf.keras.models.load_model(generator, custom_objects=custom_objects)\n",
    "    #generate latent points for 50k images\n",
    "    [z_input, labels] = generate_latent_points(25000, latent_dim=latent_dim)\n",
    "    images = generator.predict([z_input, labels])\n",
    "    images = (images*127.5) + 127.5\n",
    "    print('generated ', images.shape)\n",
    "    #calculate IS score\n",
    "    is_avg, is_std = calculate_inception_score(images, n_split=n_split)\n",
    "    print('score', is_avg, is_std)"
   ]
  },
  {
   "cell_type": "code",
   "execution_count": 7,
   "id": "recreational-vaccine",
   "metadata": {},
   "outputs": [],
   "source": [
    "def calc_fid_for_gan(generator, custom_objects=None, latent_dim=100):\n",
    "    generator = tf.keras.models.load_model(generator, custom_objects=custom_objects)\n",
    "    #generate latent points for 50k images\n",
    "    [z_input, labels] = generate_latent_points(10000, latent_dim=latent_dim)\n",
    "    fake_images = generator.predict([z_input, labels])\n",
    "    fake_images = (fake_images*127.5) + 127.5\n",
    "    print('generated ', fake_images.shape)\n",
    "    (real_images, _), (_, _) = cifar10.load_data()\n",
    "    np.random.shuffle(real_images)\n",
    "    real_images = real_images[:10000]\n",
    "    #calculate FID score\n",
    "    fid = calculate_fid(real_images, fake_images)\n",
    "    print('FID', fid)"
   ]
  },
  {
   "cell_type": "code",
   "execution_count": 8,
   "id": "whole-soviet",
   "metadata": {},
   "outputs": [],
   "source": [
    "def calc_is_for_bigGAN(generator, n_split=10, eps=1E-16, custom_objects=None):\n",
    "    generator = tf.keras.models.load_model(generator, custom_objects=custom_objects)\n",
    "    #generate latent points for 50k images\n",
    "    [z_input, labels] = generate_latent_points(25000, latent_dim=128, bigGAN=True)\n",
    "    images = generator.predict([z_input, labels])\n",
    "    images = (images*127.5) + 127.5\n",
    "    print('generated ', images.shape)\n",
    "    #calculate IS score\n",
    "    is_avg, is_std = calculate_inception_score(images)\n",
    "    print('score', is_avg, is_std)"
   ]
  },
  {
   "cell_type": "code",
   "execution_count": 9,
   "id": "unavailable-departure",
   "metadata": {},
   "outputs": [],
   "source": [
    "def calc_fid_for_bigGAN(generator, custom_objects=None):\n",
    "    generator = tf.keras.models.load_model(generator, custom_objects=custom_objects)\n",
    "    #generate latent points for 50k images\n",
    "    [z_input, labels] = generate_latent_points(10000, latent_dim=128, bigGAN=True)\n",
    "    fake_images = generator.predict([z_input, labels])\n",
    "    fake_images = (fake_images*127.5) + 127.5\n",
    "    print('generated ', fake_images.shape)\n",
    "    (real_images, _), (_, _) = cifar10.load_data()\n",
    "    np.random.shuffle(real_images)\n",
    "    real_images = real_images[:10000]\n",
    "    #calculate FID score\n",
    "    fid = calculate_fid(real_images, fake_images)\n",
    "    print('FID', fid)"
   ]
  },
  {
   "cell_type": "markdown",
   "id": "realistic-separation",
   "metadata": {},
   "source": [
    "# Evaluate Models"
   ]
  },
  {
   "cell_type": "markdown",
   "id": "solar-tucson",
   "metadata": {},
   "source": [
    "## AC-GAN_CIFAR10_1 (Base model)\n",
    "<p>Batch Size : 64</p>\n",
    "<p>D steps per G step = 1</p>"
   ]
  },
  {
   "cell_type": "code",
   "execution_count": 21,
   "id": "smaller-democracy",
   "metadata": {},
   "outputs": [],
   "source": [
    "#measure IS\n",
    "generator = './history/acgan/acgan-cifar10-1/training_checkpoints/generator-e250.h5'\n",
    "calc_is_for_gan(generator, n_split=5)"
   ]
  },
  {
   "cell_type": "code",
   "execution_count": null,
   "id": "roman-procedure",
   "metadata": {},
   "outputs": [],
   "source": [
    "#measure FID\n",
    "generator = './history/acgan/acgan-cifar10-1/training_checkpoints/generator-e250.h5'\n",
    "calc_fid_for_gan(generator)"
   ]
  },
  {
   "cell_type": "code",
   "execution_count": 10,
   "id": "legitimate-carpet",
   "metadata": {},
   "outputs": [
    {
     "name": "stdout",
     "output_type": "stream",
     "text": [
      "WARNING:tensorflow:Error in loading the saved optimizer state. As a result, your model is starting with a freshly initialized optimizer.\n",
      "313/313 [==============================] - 1s 3ms/step - loss: 1.2250 - out_fake_loss: 0.3515 - out_aux_loss: 0.8735 - out_fake_accuracy: 0.8516 - out_aux_out_aux_sparse_categorical_accuracy: 0.7696\n",
      "10000\n"
     ]
    }
   ],
   "source": [
    "#measure accuracy on CIFAR10 test data\n",
    "discriminator = './history/acgan/acgan-cifar10-1/training_checkpoints/discriminator-e250.h5'\n",
    "discriminator = tf.keras.models.load_model(discriminator)\n",
    "(_, _), (testX, testY) = cifar10.load_data()\n",
    "testX = testX.astype('float32')\n",
    "testX = (testX - 127.5) / 127.5\n",
    "_eval = discriminator.evaluate(testX, [np.ones((10000,1)),testY])\n",
    "print(testX.shape[0])"
   ]
  },
  {
   "cell_type": "markdown",
   "id": "bridal-vocabulary",
   "metadata": {},
   "source": [
    "## AC-GAN_CIFAR10_2 (Base model->Smaller Batch Size)\n",
    "<p>Batch Size : 32</p>\n",
    "<p>D steps per G step = 1</p>"
   ]
  },
  {
   "cell_type": "code",
   "execution_count": null,
   "id": "governmental-profession",
   "metadata": {},
   "outputs": [],
   "source": [
    "#measure IS\n",
    "generator = './history/acgan/acgan-cifar10-2/training_checkpoints/generator-e250.h5'\n",
    "calc_is_for_gan(generator)"
   ]
  },
  {
   "cell_type": "code",
   "execution_count": null,
   "id": "instrumental-salem",
   "metadata": {},
   "outputs": [],
   "source": [
    "#measure FID\n",
    "generator = './history/acgan/acgan-cifar10-2/training_checkpoints/generator-e250.h5'\n",
    "calc_fid_for_gan(generator)"
   ]
  },
  {
   "cell_type": "code",
   "execution_count": 16,
   "id": "extended-flush",
   "metadata": {},
   "outputs": [
    {
     "name": "stdout",
     "output_type": "stream",
     "text": [
      "WARNING:tensorflow:Error in loading the saved optimizer state. As a result, your model is starting with a freshly initialized optimizer.\n",
      "157/157 [==============================] - 0s 3ms/step - loss: -2.0618 - out_fake_loss: -3.0276 - out_aux_loss: 0.9658 - out_fake_accuracy: 0.1098 - out_aux_out_aux_sparse_categorical_accuracy: 0.7614\n"
     ]
    }
   ],
   "source": [
    "#measure accuracy on CIFAR10 test data\n",
    "discriminator = './history/acgan/acgan-cifar10-2/training_checkpoints/discriminator-e250.h5'\n",
    "discriminator = tf.keras.models.load_model(discriminator)\n",
    "(_, _), (testX, testY) = cifar10.load_data()\n",
    "testX = testX.astype('float32')\n",
    "testX = (testX - 127.5) / 127.5\n",
    "_eval = discriminator.evaluate(testX, testY, batch_size=64)"
   ]
  },
  {
   "cell_type": "markdown",
   "id": "talented-connection",
   "metadata": {},
   "source": [
    "## AC-GAN_CIFAR10_3 (Base model -> Bigger Batch Size)\n",
    "<p>Batch Size : 128</p>\n",
    "<p>D steps per G step = 1</p>"
   ]
  },
  {
   "cell_type": "code",
   "execution_count": null,
   "id": "religious-broadcast",
   "metadata": {},
   "outputs": [],
   "source": [
    "#measure IS\n",
    "generator = './history/acgan/acgan-cifar10-3/training_checkpoints/generator-e250.h5'\n",
    "calc_is_for_gan(generator)"
   ]
  },
  {
   "cell_type": "code",
   "execution_count": null,
   "id": "variable-drive",
   "metadata": {},
   "outputs": [],
   "source": [
    "#measure FID\n",
    "generator = './history/acgan/acgan-cifar10-3/training_checkpoints/generator-e250.h5'\n",
    "calc_fid_for_gan(generator)"
   ]
  },
  {
   "cell_type": "code",
   "execution_count": null,
   "id": "steady-cement",
   "metadata": {},
   "outputs": [],
   "source": [
    "#measure accuracy on CIFAR10 test data\n",
    "discriminator = './history/acgan/acgan-cifar10-3/training_checkpoints/discriminator-e250.h5'\n",
    "discriminator = tf.keras.models.load_model(discriminator)\n",
    "(_, _), (testX, testY) = cifar10.load_data()\n",
    "testX = testX.astype('float32')\n",
    "testX = (testX - 127.5) / 127.5\n",
    "_eval = discriminator.evaluate(testX, testY, batch_size=64)"
   ]
  },
  {
   "cell_type": "markdown",
   "id": "elect-basic",
   "metadata": {},
   "source": [
    "## AC-GAN_CIFAR10_4 (Base model -> 50% fmap increase in G)\n",
    "<p>Batch Size : 64</p>\n",
    "<p>D steps per G step = 1</p>\n",
    "<p>G: all num_filters increased by 50%</p>"
   ]
  },
  {
   "cell_type": "code",
   "execution_count": null,
   "id": "intended-federal",
   "metadata": {},
   "outputs": [],
   "source": [
    "#measure IS\n",
    "generator = './history/acgan/acgan-cifar10-4/training_checkpoints/generator-e250.h5'\n",
    "calc_is_for_gan(generator)"
   ]
  },
  {
   "cell_type": "code",
   "execution_count": null,
   "id": "exciting-center",
   "metadata": {},
   "outputs": [],
   "source": [
    "#measure FID\n",
    "generator = './history/acgan/acgan-cifar10-4/training_checkpoints/generator-e250.h5'\n",
    "calc_fid_for_gan(generator)"
   ]
  },
  {
   "cell_type": "code",
   "execution_count": 17,
   "id": "possible-oxide",
   "metadata": {},
   "outputs": [
    {
     "name": "stdout",
     "output_type": "stream",
     "text": [
      "WARNING:tensorflow:Error in loading the saved optimizer state. As a result, your model is starting with a freshly initialized optimizer.\n",
      "157/157 [==============================] - 0s 3ms/step - loss: -3.1748 - out_fake_loss: -4.1654 - out_aux_loss: 0.9906 - out_fake_accuracy: 0.0993 - out_aux_out_aux_sparse_categorical_accuracy: 0.7574\n"
     ]
    }
   ],
   "source": [
    "#measure accuracy on CIFAR10 test data\n",
    "discriminator = './history/acgan/acgan-cifar10-4/training_checkpoints/discriminator-e250.h5'\n",
    "discriminator = tf.keras.models.load_model(discriminator)\n",
    "(_, _), (testX, testY) = cifar10.load_data()\n",
    "testX = testX.astype('float32')\n",
    "testX = (testX - 127.5) / 127.5\n",
    "_eval = discriminator.evaluate(testX, testY, batch_size=64)"
   ]
  },
  {
   "cell_type": "markdown",
   "id": "active-curtis",
   "metadata": {},
   "source": [
    "## AC-GAN_CIFAR10_11 (Base model) Disc. LR Halved\n",
    "<p>Batch Size : 64</p>\n",
    "<p>D steps per G step = 1</p>"
   ]
  },
  {
   "cell_type": "code",
   "execution_count": 17,
   "id": "sudden-chester",
   "metadata": {},
   "outputs": [
    {
     "name": "stdout",
     "output_type": "stream",
     "text": [
      "WARNING:tensorflow:No training configuration found in the save file, so the model was *not* compiled. Compile it manually.\n",
      "generated  (25000, 32, 32, 3)\n",
      "score 5.745974 0.060925893\n"
     ]
    }
   ],
   "source": [
    "#measure IS\n",
    "generator = './history/acgan/acgan-cifar10-11/training_checkpoints/generator-e250.h5'\n",
    "calc_is_for_gan(generator, n_split=5)"
   ]
  },
  {
   "cell_type": "code",
   "execution_count": 15,
   "id": "other-parade",
   "metadata": {},
   "outputs": [
    {
     "name": "stdout",
     "output_type": "stream",
     "text": [
      "WARNING:tensorflow:No training configuration found in the save file, so the model was *not* compiled. Compile it manually.\n",
      "generated  (10000, 32, 32, 3)\n",
      "FID 50.32705359927204\n"
     ]
    }
   ],
   "source": [
    "#measure FID\n",
    "generator = './history/acgan/acgan-cifar10-11/training_checkpoints/generator-e250.h5'\n",
    "calc_fid_for_gan(generator)"
   ]
  },
  {
   "cell_type": "code",
   "execution_count": 11,
   "id": "suburban-basket",
   "metadata": {},
   "outputs": [
    {
     "name": "stdout",
     "output_type": "stream",
     "text": [
      "WARNING:tensorflow:Error in loading the saved optimizer state. As a result, your model is starting with a freshly initialized optimizer.\n",
      "157/157 [==============================] - 1s 3ms/step - loss: 2.1301 - out_fake_loss: 1.4816 - out_aux_loss: 0.6485 - out_fake_accuracy: 0.1010 - out_aux_out_aux_sparse_categorical_accuracy: 0.7896\n"
     ]
    }
   ],
   "source": [
    "#measure accuracy on CIFAR10 test data\n",
    "discriminator = './history/acgan/acgan-cifar10-11/training_checkpoints/discriminator-e250.h5'\n",
    "discriminator = tf.keras.models.load_model(discriminator)\n",
    "(_, _), (testX, testY) = cifar10.load_data()\n",
    "testX = testX.astype('float32')\n",
    "testX = (testX - 127.5) / 127.5\n",
    "_eval = discriminator.evaluate(testX, testY, batch_size=64)"
   ]
  },
  {
   "cell_type": "markdown",
   "id": "rational-poker",
   "metadata": {},
   "source": [
    "## AC-GAN_CIFAR10_12 (Base model->Smaller Batch Size) Disc. LR Halved\n",
    "<p>Batch Size : 32</p>\n",
    "<p>D steps per G step = 1</p>"
   ]
  },
  {
   "cell_type": "code",
   "execution_count": 22,
   "id": "paperback-cocktail",
   "metadata": {},
   "outputs": [
    {
     "name": "stdout",
     "output_type": "stream",
     "text": [
      "WARNING:tensorflow:No training configuration found in the save file, so the model was *not* compiled. Compile it manually.\n",
      "generated  (25000, 32, 32, 3)\n",
      "score 5.8037267 0.03910174\n"
     ]
    }
   ],
   "source": [
    "#measure IS\n",
    "generator = './history/acgan/acgan-cifar10-12/training_checkpoints/generator-e250.h5'\n",
    "calc_is_for_gan(generator, latent_dim=110)"
   ]
  },
  {
   "cell_type": "code",
   "execution_count": 23,
   "id": "senior-buffer",
   "metadata": {},
   "outputs": [
    {
     "name": "stdout",
     "output_type": "stream",
     "text": [
      "WARNING:tensorflow:No training configuration found in the save file, so the model was *not* compiled. Compile it manually.\n",
      "generated  (10000, 32, 32, 3)\n",
      "FID 48.727771455353235\n"
     ]
    }
   ],
   "source": [
    "#measure FID\n",
    "generator = './history/acgan/acgan-cifar10-12/training_checkpoints/generator-e250.h5'\n",
    "calc_fid_for_gan(generator, latent_dim=110)"
   ]
  },
  {
   "cell_type": "code",
   "execution_count": 12,
   "id": "fatty-compromise",
   "metadata": {},
   "outputs": [
    {
     "name": "stdout",
     "output_type": "stream",
     "text": [
      "WARNING:tensorflow:Error in loading the saved optimizer state. As a result, your model is starting with a freshly initialized optimizer.\n",
      "157/157 [==============================] - 1s 4ms/step - loss: 2.1496 - out_fake_loss: 1.5044 - out_aux_loss: 0.6452 - out_fake_accuracy: 0.1087 - out_aux_out_aux_sparse_categorical_accuracy: 0.7932\n"
     ]
    }
   ],
   "source": [
    "#measure accuracy on CIFAR10 test data\n",
    "discriminator = './history/acgan/acgan-cifar10-12/training_checkpoints/discriminator-e250.h5'\n",
    "discriminator = tf.keras.models.load_model(discriminator)\n",
    "(_, _), (testX, testY) = cifar10.load_data()\n",
    "testX = testX.astype('float32')\n",
    "testX = (testX - 127.5) / 127.5\n",
    "_eval = discriminator.evaluate(testX, testY, batch_size=64)"
   ]
  },
  {
   "cell_type": "markdown",
   "id": "canadian-lodge",
   "metadata": {},
   "source": [
    "## AC-GAN_CIFAR10_13 (Base model -> Bigger Batch Size) Disc. LR Halved\n",
    "<p>Batch Size : 128</p>\n",
    "<p>D steps per G step = 1</p>"
   ]
  },
  {
   "cell_type": "code",
   "execution_count": 28,
   "id": "sonic-generic",
   "metadata": {},
   "outputs": [
    {
     "name": "stdout",
     "output_type": "stream",
     "text": [
      "WARNING:tensorflow:No training configuration found in the save file, so the model was *not* compiled. Compile it manually.\n",
      "generated  (25000, 32, 32, 3)\n",
      "score 3.4769855 0.041540418\n"
     ]
    }
   ],
   "source": [
    "#measure IS\n",
    "generator = './history/acgan/acgan-cifar10-13/training_checkpoints/generator-e250.h5'\n",
    "calc_is_for_gan(generator, latent_dim=110)"
   ]
  },
  {
   "cell_type": "code",
   "execution_count": 29,
   "id": "architectural-blake",
   "metadata": {},
   "outputs": [
    {
     "name": "stdout",
     "output_type": "stream",
     "text": [
      "WARNING:tensorflow:No training configuration found in the save file, so the model was *not* compiled. Compile it manually.\n",
      "generated  (10000, 32, 32, 3)\n",
      "FID 126.96982927891284\n"
     ]
    }
   ],
   "source": [
    "#measure FID\n",
    "generator = './history/acgan/acgan-cifar10-13/training_checkpoints/generator-e250.h5'\n",
    "calc_fid_for_gan(generator, latent_dim=110)"
   ]
  },
  {
   "cell_type": "code",
   "execution_count": 27,
   "id": "worldwide-potential",
   "metadata": {},
   "outputs": [
    {
     "name": "stdout",
     "output_type": "stream",
     "text": [
      "WARNING:tensorflow:Error in loading the saved optimizer state. As a result, your model is starting with a freshly initialized optimizer.\n",
      "157/157 [==============================] - 0s 3ms/step - loss: -18.8897 - out_fake_loss: -19.5395 - out_aux_loss: 0.6498 - out_fake_accuracy: 0.0971 - out_aux_out_aux_sparse_categorical_accuracy: 0.7802\n"
     ]
    }
   ],
   "source": [
    "#measure accuracy on CIFAR10 test data\n",
    "discriminator = './history/acgan/acgan-cifar10-13/training_checkpoints/discriminator-e250.h5'\n",
    "discriminator = tf.keras.models.load_model(discriminator)\n",
    "(_, _), (testX, testY) = cifar10.load_data()\n",
    "testX = testX.astype('float32')\n",
    "testX = (testX - 127.5) / 127.5\n",
    "_eval = discriminator.evaluate(testX, testY, batch_size=64)"
   ]
  },
  {
   "cell_type": "markdown",
   "id": "roman-figure",
   "metadata": {},
   "source": [
    "## AC-GAN_CIFAR10_14 (Base model -> 50% fmap increase in G) Disc. LR Halved\n",
    "<p>Batch Size : 64</p>\n",
    "<p>D steps per G step = 1</p>\n",
    "<p>G: all num_filters increased by 50%</p>"
   ]
  },
  {
   "cell_type": "code",
   "execution_count": 25,
   "id": "outside-vision",
   "metadata": {},
   "outputs": [
    {
     "name": "stdout",
     "output_type": "stream",
     "text": [
      "WARNING:tensorflow:No training configuration found in the save file, so the model was *not* compiled. Compile it manually.\n",
      "generated  (25000, 32, 32, 3)\n",
      "score 6.028472 0.07863616\n"
     ]
    }
   ],
   "source": [
    "#measure IS\n",
    "generator = './history/acgan/acgan-cifar10-14/training_checkpoints/generator-e250.h5'\n",
    "calc_is_for_gan(generator)"
   ]
  },
  {
   "cell_type": "code",
   "execution_count": 26,
   "id": "effective-publication",
   "metadata": {},
   "outputs": [
    {
     "name": "stdout",
     "output_type": "stream",
     "text": [
      "WARNING:tensorflow:No training configuration found in the save file, so the model was *not* compiled. Compile it manually.\n",
      "generated  (10000, 32, 32, 3)\n",
      "FID 49.622968049923614\n"
     ]
    }
   ],
   "source": [
    "#measure FID\n",
    "generator = './history/acgan/acgan-cifar10-14/training_checkpoints/generator-e250.h5'\n",
    "calc_fid_for_gan(generator)"
   ]
  },
  {
   "cell_type": "code",
   "execution_count": 13,
   "id": "falling-bradford",
   "metadata": {},
   "outputs": [
    {
     "name": "stdout",
     "output_type": "stream",
     "text": [
      "WARNING:tensorflow:Error in loading the saved optimizer state. As a result, your model is starting with a freshly initialized optimizer.\n",
      "157/157 [==============================] - 1s 3ms/step - loss: 1.7978 - out_fake_loss: 1.1275 - out_aux_loss: 0.6703 - out_fake_accuracy: 0.1033 - out_aux_out_aux_sparse_categorical_accuracy: 0.7890\n"
     ]
    }
   ],
   "source": [
    "#measure accuracy on CIFAR10 test data\n",
    "discriminator = './history/acgan/acgan-cifar10-14/training_checkpoints/discriminator-e250.h5'\n",
    "discriminator = tf.keras.models.load_model(discriminator)\n",
    "(_, _), (testX, testY) = cifar10.load_data()\n",
    "testX = testX.astype('float32')\n",
    "testX = (testX - 127.5) / 127.5\n",
    "_eval = discriminator.evaluate(testX, testY, batch_size=64)"
   ]
  },
  {
   "cell_type": "markdown",
   "id": "contrary-immune",
   "metadata": {},
   "source": [
    "# AC-BigGAN_CIFAR10_1\n",
    "<p>Batch Size : 64 </p>\n",
    "<p>D steps per G step = 1</p>"
   ]
  },
  {
   "cell_type": "code",
   "execution_count": 10,
   "id": "waiting-sharing",
   "metadata": {
    "scrolled": true
   },
   "outputs": [
    {
     "name": "stdout",
     "output_type": "stream",
     "text": [
      "WARNING:tensorflow:No training configuration found in the save file, so the model was *not* compiled. Compile it manually.\n",
      "generated  (25000, 32, 32, 3)\n",
      "score 7.7079735 0.13069068\n"
     ]
    }
   ],
   "source": [
    "#measure IS\n",
    "custom_objects={'SpectralDense': SpectralDense, 'SpectralConv2D': SpectralConv2D}\n",
    "generator = './history/bigacgan/bigacgan-cifar10-1/training_checkpoints/generator-e250.h5'\n",
    "calc_is_for_bigGAN(generator, custom_objects=custom_objects)"
   ]
  },
  {
   "cell_type": "code",
   "execution_count": 11,
   "id": "peripheral-radius",
   "metadata": {
    "scrolled": true
   },
   "outputs": [
    {
     "name": "stdout",
     "output_type": "stream",
     "text": [
      "WARNING:tensorflow:No training configuration found in the save file, so the model was *not* compiled. Compile it manually.\n",
      "generated  (10000, 32, 32, 3)\n",
      "FID 29.91962002982266\n"
     ]
    }
   ],
   "source": [
    "#measure FID\n",
    "custom_objects={'SpectralDense': SpectralDense, 'SpectralConv2D': SpectralConv2D}\n",
    "generator = './history/bigacgan/bigacgan-cifar10-1/training_checkpoints/generator-e250.h5'\n",
    "calc_fid_for_bigGAN(generator, custom_objects=custom_objects)"
   ]
  },
  {
   "cell_type": "code",
   "execution_count": 12,
   "id": "primary-trout",
   "metadata": {},
   "outputs": [
    {
     "name": "stdout",
     "output_type": "stream",
     "text": [
      "WARNING:tensorflow:Error in loading the saved optimizer state. As a result, your model is starting with a freshly initialized optimizer.\n",
      "157/157 [==============================] - 2s 12ms/step - loss: -7.1989 - out_fake_loss: -7.6671 - out_aux_loss: 0.4683 - out_fake_accuracy: 0.1340 - out_aux_out_aux_sparse_categorical_accuracy: 0.8539\n"
     ]
    }
   ],
   "source": [
    "#measure accuracy on CIFAR10 test data\n",
    "custom_objects={'SpectralDense': SpectralDense, 'SpectralConv2D': SpectralConv2D}\n",
    "discriminator = './history/bigacgan/bigacgan-cifar10-1/training_checkpoints/discriminator-e250.h5'\n",
    "discriminator = tf.keras.models.load_model(discriminator, custom_objects=custom_objects)\n",
    "(_, _), (testX, testY) = cifar10.load_data()\n",
    "testX = testX.astype('float32')\n",
    "testX = (testX - 127.5) / 127.5\n",
    "_eval = discriminator.evaluate(testX, testY, batch_size=64)"
   ]
  },
  {
   "cell_type": "markdown",
   "id": "material-training",
   "metadata": {},
   "source": [
    "# AC-BigGAN_CIFAR10_2"
   ]
  },
  {
   "cell_type": "code",
   "execution_count": 10,
   "id": "previous-intranet",
   "metadata": {},
   "outputs": [
    {
     "name": "stdout",
     "output_type": "stream",
     "text": [
      "WARNING:tensorflow:No training configuration found in the save file, so the model was *not* compiled. Compile it manually.\n",
      "generated  (25000, 32, 32, 3)\n",
      "score 7.720698 0.1293581\n"
     ]
    }
   ],
   "source": [
    "#measure IS\n",
    "custom_objects={'SpectralDense': SpectralDense, 'SpectralConv2D': SpectralConv2D}\n",
    "generator = './history/bigacgan/bigacgan-cifar10-2/training_checkpoints/generator-e250.h5'\n",
    "calc_is_for_bigGAN(generator, custom_objects=custom_objects)"
   ]
  },
  {
   "cell_type": "code",
   "execution_count": 11,
   "id": "median-friendly",
   "metadata": {},
   "outputs": [
    {
     "name": "stdout",
     "output_type": "stream",
     "text": [
      "WARNING:tensorflow:No training configuration found in the save file, so the model was *not* compiled. Compile it manually.\n",
      "generated  (10000, 32, 32, 3)\n",
      "FID 25.329377660606\n"
     ]
    }
   ],
   "source": [
    "#measure FID\n",
    "custom_objects={'SpectralDense': SpectralDense, 'SpectralConv2D': SpectralConv2D}\n",
    "generator = './history/bigacgan/bigacgan-cifar10-2/training_checkpoints/generator-e250.h5'\n",
    "calc_fid_for_bigGAN(generator, custom_objects=custom_objects)"
   ]
  },
  {
   "cell_type": "code",
   "execution_count": 12,
   "id": "radio-gallery",
   "metadata": {},
   "outputs": [
    {
     "name": "stdout",
     "output_type": "stream",
     "text": [
      "WARNING:tensorflow:Error in loading the saved optimizer state. As a result, your model is starting with a freshly initialized optimizer.\n",
      "157/157 [==============================] - 2s 12ms/step - loss: -4.3929 - out_fake_loss: -4.7763 - out_aux_loss: 0.3834 - out_fake_accuracy: 0.1312 - out_aux_out_aux_sparse_categorical_accuracy: 0.8838\n"
     ]
    }
   ],
   "source": [
    "#measure accuracy on CIFAR10 test data\n",
    "custom_objects={'SpectralDense': SpectralDense, 'SpectralConv2D': SpectralConv2D}\n",
    "discriminator = './history/bigacgan/bigacgan-cifar10-2/training_checkpoints/discriminator-e250.h5'\n",
    "discriminator = tf.keras.models.load_model(discriminator, custom_objects=custom_objects)\n",
    "(_, _), (testX, testY) = cifar10.load_data()\n",
    "testX = testX.astype('float32')\n",
    "testX = (testX - 127.5) / 127.5\n",
    "_eval = discriminator.evaluate(testX, testY, batch_size=64)"
   ]
  },
  {
   "cell_type": "markdown",
   "id": "grand-brake",
   "metadata": {},
   "source": [
    "# AC-BigGAN_CIFAR10_3"
   ]
  },
  {
   "cell_type": "code",
   "execution_count": 13,
   "id": "wireless-algebra",
   "metadata": {},
   "outputs": [
    {
     "name": "stdout",
     "output_type": "stream",
     "text": [
      "WARNING:tensorflow:No training configuration found in the save file, so the model was *not* compiled. Compile it manually.\n",
      "generated  (25000, 32, 32, 3)\n",
      "score 7.7376604 0.092479035\n"
     ]
    }
   ],
   "source": [
    "#measure IS\n",
    "custom_objects={'SpectralDense': SpectralDense, 'SpectralConv2D': SpectralConv2D}\n",
    "generator = './history/bigacgan/bigacgan-cifar10-3/training_checkpoints/generator-e250.h5'\n",
    "calc_is_for_bigGAN(generator, custom_objects=custom_objects)"
   ]
  },
  {
   "cell_type": "code",
   "execution_count": 14,
   "id": "equivalent-insertion",
   "metadata": {},
   "outputs": [
    {
     "name": "stdout",
     "output_type": "stream",
     "text": [
      "WARNING:tensorflow:No training configuration found in the save file, so the model was *not* compiled. Compile it manually.\n",
      "generated  (10000, 32, 32, 3)\n",
      "FID 26.802800134554204\n"
     ]
    }
   ],
   "source": [
    "#measure FID\n",
    "custom_objects={'SpectralDense': SpectralDense, 'SpectralConv2D': SpectralConv2D}\n",
    "generator = './history/bigacgan/bigacgan-cifar10-3/training_checkpoints/generator-e250.h5'\n",
    "calc_fid_for_bigGAN(generator, custom_objects=custom_objects)"
   ]
  },
  {
   "cell_type": "code",
   "execution_count": 15,
   "id": "important-botswana",
   "metadata": {},
   "outputs": [
    {
     "name": "stdout",
     "output_type": "stream",
     "text": [
      "WARNING:tensorflow:Error in loading the saved optimizer state. As a result, your model is starting with a freshly initialized optimizer.\n",
      "157/157 [==============================] - 2s 11ms/step - loss: -3.3180 - out_fake_loss: -3.7502 - out_aux_loss: 0.4322 - out_fake_accuracy: 0.1361 - out_aux_out_aux_sparse_categorical_accuracy: 0.8652\n"
     ]
    }
   ],
   "source": [
    "#measure accuracy on CIFAR10 test data\n",
    "custom_objects={'SpectralDense': SpectralDense, 'SpectralConv2D': SpectralConv2D}\n",
    "discriminator = './history/bigacgan/bigacgan-cifar10-3/training_checkpoints/discriminator-e250.h5'\n",
    "discriminator = tf.keras.models.load_model(discriminator, custom_objects=custom_objects)\n",
    "(_, _), (testX, testY) = cifar10.load_data()\n",
    "testX = testX.astype('float32')\n",
    "testX = (testX - 127.5) / 127.5\n",
    "_eval = discriminator.evaluate(testX, testY, batch_size=64)"
   ]
  },
  {
   "cell_type": "markdown",
   "id": "stable-suicide",
   "metadata": {},
   "source": [
    "# AC-BigGAN_CIFAR10_4"
   ]
  },
  {
   "cell_type": "code",
   "execution_count": 11,
   "id": "horizontal-installation",
   "metadata": {},
   "outputs": [
    {
     "name": "stdout",
     "output_type": "stream",
     "text": [
      "WARNING:tensorflow:No training configuration found in the save file, so the model was *not* compiled. Compile it manually.\n",
      "generated  (25000, 32, 32, 3)\n",
      "score 7.72899 0.17522876\n"
     ]
    }
   ],
   "source": [
    "#measure IS\n",
    "custom_objects={'SpectralDense': SpectralDense, 'SpectralConv2D': SpectralConv2D}\n",
    "generator = './history/bigacgan/bigacgan-cifar10-4/training_checkpoints/generator-e250.h5'\n",
    "calc_is_for_bigGAN(generator, custom_objects=custom_objects)"
   ]
  },
  {
   "cell_type": "code",
   "execution_count": 12,
   "id": "fossil-testing",
   "metadata": {},
   "outputs": [
    {
     "name": "stdout",
     "output_type": "stream",
     "text": [
      "WARNING:tensorflow:No training configuration found in the save file, so the model was *not* compiled. Compile it manually.\n",
      "generated  (10000, 32, 32, 3)\n",
      "FID 27.963016764337056\n"
     ]
    }
   ],
   "source": [
    "#measure FID\n",
    "custom_objects={'SpectralDense': SpectralDense, 'SpectralConv2D': SpectralConv2D}\n",
    "generator = './history/bigacgan/bigacgan-cifar10-4/training_checkpoints/generator-e250.h5'\n",
    "calc_fid_for_bigGAN(generator, custom_objects=custom_objects)"
   ]
  },
  {
   "cell_type": "code",
   "execution_count": 10,
   "id": "secondary-qualification",
   "metadata": {},
   "outputs": [
    {
     "name": "stdout",
     "output_type": "stream",
     "text": [
      "WARNING:tensorflow:Error in loading the saved optimizer state. As a result, your model is starting with a freshly initialized optimizer.\n",
      "157/157 [==============================] - 2s 12ms/step - loss: -5.8492 - out_fake_loss: -6.2778 - out_aux_loss: 0.4286 - out_fake_accuracy: 0.1447 - out_aux_out_aux_sparse_categorical_accuracy: 0.8683\n"
     ]
    }
   ],
   "source": [
    "#measure accuracy on CIFAR10 test data\n",
    "custom_objects={'SpectralDense': SpectralDense, 'SpectralConv2D': SpectralConv2D}\n",
    "discriminator = './history/bigacgan/bigacgan-cifar10-4/training_checkpoints/discriminator-e250.h5'\n",
    "discriminator = tf.keras.models.load_model(discriminator, custom_objects=custom_objects)\n",
    "(_, _), (testX, testY) = cifar10.load_data()\n",
    "testX = testX.astype('float32')\n",
    "testX = (testX - 127.5) / 127.5\n",
    "_eval = discriminator.evaluate(testX, testY, batch_size=64)"
   ]
  },
  {
   "cell_type": "markdown",
   "id": "extended-polls",
   "metadata": {},
   "source": [
    "# AC-BigGAN_CIFAR10_5"
   ]
  },
  {
   "cell_type": "code",
   "execution_count": 10,
   "id": "military-barrel",
   "metadata": {},
   "outputs": [
    {
     "name": "stdout",
     "output_type": "stream",
     "text": [
      "WARNING:tensorflow:No training configuration found in the save file, so the model was *not* compiled. Compile it manually.\n",
      "generated  (25000, 32, 32, 3)\n",
      "score 7.646039 0.09679922\n"
     ]
    }
   ],
   "source": [
    "#measure IS\n",
    "custom_objects={'SpectralDense': SpectralDense, 'SpectralConv2D': SpectralConv2D}\n",
    "generator = './history/bigacgan/bigacgan-cifar10-5/training_checkpoints/generator-e250.h5'\n",
    "calc_is_for_bigGAN(generator, custom_objects=custom_objects)"
   ]
  },
  {
   "cell_type": "code",
   "execution_count": 11,
   "id": "quality-democrat",
   "metadata": {},
   "outputs": [
    {
     "name": "stdout",
     "output_type": "stream",
     "text": [
      "WARNING:tensorflow:No training configuration found in the save file, so the model was *not* compiled. Compile it manually.\n",
      "generated  (10000, 32, 32, 3)\n",
      "FID 25.809598875721314\n"
     ]
    }
   ],
   "source": [
    "#measure FID\n",
    "custom_objects={'SpectralDense': SpectralDense, 'SpectralConv2D': SpectralConv2D}\n",
    "generator = './history/bigacgan/bigacgan-cifar10-5/training_checkpoints/generator-e250.h5'\n",
    "calc_fid_for_bigGAN(generator, custom_objects=custom_objects)"
   ]
  },
  {
   "cell_type": "code",
   "execution_count": 12,
   "id": "entitled-practice",
   "metadata": {},
   "outputs": [
    {
     "name": "stdout",
     "output_type": "stream",
     "text": [
      "WARNING:tensorflow:Error in loading the saved optimizer state. As a result, your model is starting with a freshly initialized optimizer.\n",
      "157/157 [==============================] - 2s 12ms/step - loss: -3.0351 - out_fake_loss: -3.5048 - out_aux_loss: 0.4697 - out_fake_accuracy: 0.1328 - out_aux_out_aux_sparse_categorical_accuracy: 0.8453\n"
     ]
    }
   ],
   "source": [
    "#measure accuracy on CIFAR10 test data\n",
    "custom_objects={'SpectralDense': SpectralDense, 'SpectralConv2D': SpectralConv2D}\n",
    "discriminator = './history/bigacgan/bigacgan-cifar10-5/training_checkpoints/discriminator-e250.h5'\n",
    "discriminator = tf.keras.models.load_model(discriminator, custom_objects=custom_objects)\n",
    "(_, _), (testX, testY) = cifar10.load_data()\n",
    "testX = testX.astype('float32')\n",
    "testX = (testX - 127.5) / 127.5\n",
    "_eval = discriminator.evaluate(testX, testY, batch_size=64)"
   ]
  },
  {
   "cell_type": "markdown",
   "id": "australian-representative",
   "metadata": {},
   "source": [
    "# AC-BigGAN_CIFAR10_6"
   ]
  },
  {
   "cell_type": "code",
   "execution_count": 15,
   "id": "greek-translation",
   "metadata": {},
   "outputs": [
    {
     "name": "stdout",
     "output_type": "stream",
     "text": [
      "WARNING:tensorflow:No training configuration found in the save file, so the model was *not* compiled. Compile it manually.\n",
      "generated  (25000, 32, 32, 3)\n",
      "score 7.814658 0.10833879\n"
     ]
    }
   ],
   "source": [
    "#measure IS\n",
    "custom_objects={'SpectralDense': SpectralDense, 'SpectralConv2D': SpectralConv2D}\n",
    "generator = './history/bigacgan/bigacgan-cifar10-6/training_checkpoints/generator-e250.h5'\n",
    "calc_is_for_bigGAN(generator, custom_objects=custom_objects)"
   ]
  },
  {
   "cell_type": "code",
   "execution_count": 14,
   "id": "surrounded-ivory",
   "metadata": {},
   "outputs": [
    {
     "name": "stdout",
     "output_type": "stream",
     "text": [
      "WARNING:tensorflow:No training configuration found in the save file, so the model was *not* compiled. Compile it manually.\n",
      "generated  (10000, 32, 32, 3)\n",
      "FID 23.976878205521324\n"
     ]
    }
   ],
   "source": [
    "#measure FID\n",
    "custom_objects={'SpectralDense': SpectralDense, 'SpectralConv2D': SpectralConv2D}\n",
    "generator = './history/bigacgan/bigacgan-cifar10-6/training_checkpoints/generator-e250.h5'\n",
    "calc_fid_for_bigGAN(generator, custom_objects=custom_objects)"
   ]
  },
  {
   "cell_type": "code",
   "execution_count": 13,
   "id": "refined-confusion",
   "metadata": {},
   "outputs": [
    {
     "name": "stdout",
     "output_type": "stream",
     "text": [
      "WARNING:tensorflow:Error in loading the saved optimizer state. As a result, your model is starting with a freshly initialized optimizer.\n",
      "157/157 [==============================] - 2s 11ms/step - loss: -1.7444 - out_fake_loss: -2.1399 - out_aux_loss: 0.3956 - out_fake_accuracy: 0.1342 - out_aux_out_aux_sparse_categorical_accuracy: 0.8791\n"
     ]
    }
   ],
   "source": [
    "#measure accuracy on CIFAR10 test data\n",
    "custom_objects={'SpectralDense': SpectralDense, 'SpectralConv2D': SpectralConv2D}\n",
    "discriminator = './history/bigacgan/bigacgan-cifar10-6/training_checkpoints/discriminator-e250.h5'\n",
    "discriminator = tf.keras.models.load_model(discriminator, custom_objects=custom_objects)\n",
    "(_, _), (testX, testY) = cifar10.load_data()\n",
    "testX = testX.astype('float32')\n",
    "testX = (testX - 127.5) / 127.5\n",
    "_eval = discriminator.evaluate(testX, testY, batch_size=64)"
   ]
  },
  {
   "cell_type": "markdown",
   "id": "nearby-segment",
   "metadata": {},
   "source": [
    "# AC-BigGAN_CIFAR10_9\n",
    "<p>Batch Size : 64 </p>\n",
    "<p>D steps per G step = 1</p>\n",
    "\"Mistake\" fix"
   ]
  },
  {
   "cell_type": "code",
   "execution_count": 10,
   "id": "opponent-minnesota",
   "metadata": {},
   "outputs": [
    {
     "name": "stdout",
     "output_type": "stream",
     "text": [
      "WARNING:tensorflow:No training configuration found in the save file, so the model was *not* compiled. Compile it manually.\n",
      "generated  (25000, 32, 32, 3)\n",
      "score 6.917647 0.14044906\n"
     ]
    }
   ],
   "source": [
    "#measure IS\n",
    "custom_objects={'SpectralDense': SpectralDense, 'SpectralConv2D': SpectralConv2D}\n",
    "generator = './history/bigacgan/bigacgan-cifar10-9/training_checkpoints/generator-e200.h5'\n",
    "calc_is_for_bigGAN(generator, custom_objects=custom_objects)"
   ]
  },
  {
   "cell_type": "code",
   "execution_count": 11,
   "id": "handled-portrait",
   "metadata": {},
   "outputs": [
    {
     "name": "stdout",
     "output_type": "stream",
     "text": [
      "WARNING:tensorflow:No training configuration found in the save file, so the model was *not* compiled. Compile it manually.\n",
      "generated  (10000, 32, 32, 3)\n",
      "FID 30.1998249705484\n"
     ]
    }
   ],
   "source": [
    "#measure FID\n",
    "custom_objects={'SpectralDense': SpectralDense, 'SpectralConv2D': SpectralConv2D}\n",
    "generator = './history/bigacgan/bigacgan-cifar10-9/training_checkpoints/generator-e200.h5'\n",
    "calc_fid_for_bigGAN(generator, custom_objects=custom_objects)"
   ]
  },
  {
   "cell_type": "code",
   "execution_count": 15,
   "id": "equivalent-syndrome",
   "metadata": {},
   "outputs": [
    {
     "name": "stdout",
     "output_type": "stream",
     "text": [
      "WARNING:tensorflow:Error in loading the saved optimizer state. As a result, your model is starting with a freshly initialized optimizer.\n",
      "157/157 [==============================] - 1s 9ms/step - loss: -2.0863 - out_fake_loss: -2.7290 - out_aux_loss: 0.6427 - out_fake_accuracy: 0.1226 - out_aux_out_aux_sparse_categorical_accuracy: 0.8112\n"
     ]
    }
   ],
   "source": [
    "#measure accuracy on CIFAR10 test data\n",
    "custom_objects={'SpectralDense': SpectralDense, 'SpectralConv2D': SpectralConv2D}\n",
    "discriminator = './history/bigacgan/bigacgan-cifar10-9/training_checkpoints/discriminator-e200.h5'\n",
    "discriminator = tf.keras.models.load_model(discriminator, custom_objects=custom_objects)\n",
    "(_, _), (testX, testY) = cifar10.load_data()\n",
    "testX = testX.astype('float32')\n",
    "testX = (testX - 127.5) / 127.5\n",
    "_eval = discriminator.evaluate(testX, testY, batch_size=64)"
   ]
  }
 ],
 "metadata": {
  "kernelspec": {
   "display_name": "Python 3",
   "language": "python",
   "name": "python3"
  },
  "language_info": {
   "codemirror_mode": {
    "name": "ipython",
    "version": 3
   },
   "file_extension": ".py",
   "mimetype": "text/x-python",
   "name": "python",
   "nbconvert_exporter": "python",
   "pygments_lexer": "ipython3",
   "version": "3.7.10"
  }
 },
 "nbformat": 4,
 "nbformat_minor": 5
}
